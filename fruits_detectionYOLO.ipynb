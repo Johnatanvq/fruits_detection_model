{
 "cells": [
  {
   "cell_type": "markdown",
   "id": "2b8f561c",
   "metadata": {},
   "source": [
    "# Fruits Detection with YOLO11 and OAK-1 Lite\n",
    "\n",
    "This notebook contains:\n",
    "- Custom scripts developed by Johnatan Valencia.\n",
    "- Scripts adapted from the tutorial by Evan Juras.\n",
    "\n",
    "References are provided below."
   ]
  },
  {
   "cell_type": "code",
   "execution_count": null,
   "id": "4fb5abff",
   "metadata": {},
   "outputs": [],
   "source": [
    "# ------------------------------\n",
    "# ENVIRONMENT SETUP (common)\n",
    "# ------------------------------\n",
    "\n",
    "!pip install ultralytics depthai blobconverter onnx"
   ]
  },
  {
   "cell_type": "code",
   "execution_count": null,
   "id": "0b60f602",
   "metadata": {},
   "outputs": [],
   "source": [
    "# ------------------------------\n",
    "# SCRIPT BASED ON EVAN JURAS\n",
    "# Source: https://colab.research.google.com/github/EdjeElectronics/Train-and-Deploy-YOLO-Models/blob/main/Train_YOLO_Models.ipynb#scrollTo=PooP5Vjsg2Jn\n",
    "# Adapted for YOLO11\n",
    "# ------------------------------\n",
    "\n",
    "!nvidia-smi"
   ]
  },
  {
   "cell_type": "markdown",
   "id": "71ef9721",
   "metadata": {},
   "source": [
    "### Dataset Preparation"
   ]
  },
  {
   "cell_type": "code",
   "execution_count": null,
   "id": "4b7dc9b5",
   "metadata": {},
   "outputs": [],
   "source": [
    "# ------------------------------\n",
    "# SCRIPT BASED ON EVAN JURAS\n",
    "# Source: https://colab.research.google.com/github/EdjeElectronics/Train-and-Deploy-YOLO-Models/blob/main/Train_YOLO_Models.ipynb#scrollTo=PooP5Vjsg2Jn\n",
    "# Adapted for YOLO11\n",
    "# ------------------------------\n",
    "\n",
    "from google.colab import drive\n",
    "drive.mount('/content/gdrive')\n",
    "!ls \"/content/gdrive/MyDrive/PDI/testing/fruits_detectionYOLO/\"\n",
    "\n",
    "!cp \"/content/gdrive/MyDrive/PDI/testing/fruits_detectionYOLO/data.zip\" /content/"
   ]
  },
  {
   "cell_type": "code",
   "execution_count": null,
   "id": "3224cefc",
   "metadata": {},
   "outputs": [],
   "source": [
    "# ------------------------------\n",
    "# SCRIPT BASED ON EVAN JURAS\n",
    "# Source: https://colab.research.google.com/github/EdjeElectronics/Train-and-Deploy-YOLO-Models/blob/main/Train_YOLO_Models.ipynb#scrollTo=PooP5Vjsg2Jn\n",
    "# Adapted for YOLO11\n",
    "# ------------------------------\n",
    "\n",
    "# Unzip images to a custom data folder\n",
    "!unzip -q /content/data.zip -d /content/custom_data"
   ]
  },
  {
   "cell_type": "code",
   "execution_count": null,
   "id": "ef60fbf5",
   "metadata": {},
   "outputs": [],
   "source": [
    "# ------------------------------\n",
    "# SCRIPT BASED ON EVAN JURAS\n",
    "# Source: https://colab.research.google.com/github/EdjeElectronics/Train-and-Deploy-YOLO-Models/blob/main/Train_YOLO_Models.ipynb#scrollTo=PooP5Vjsg2Jn\n",
    "# Adapted for YOLO11\n",
    "# ------------------------------\n",
    "\n",
    "!wget -O /content/train_val_split.py https://raw.githubusercontent.com/EdjeElectronics/Train-and-Deploy-YOLO-Models/refs/heads/main/utils/train_val_split.py\n",
    "\n",
    "# TO DO: Improve robustness of train_val_split.py script so it can handle nested data folders, etc\n",
    "!python train_val_split.py --datapath=\"/content/custom_data\" --train_pct=0.9"
   ]
  },
  {
   "cell_type": "code",
   "execution_count": null,
   "id": "4d954b9b",
   "metadata": {},
   "outputs": [],
   "source": [
    "# ------------------------------\n",
    "# SCRIPT BASED ON EVAN JURAS\n",
    "# Source: https://colab.research.google.com/github/EdjeElectronics/Train-and-Deploy-YOLO-Models/blob/main/Train_YOLO_Models.ipynb#scrollTo=PooP5Vjsg2Jn\n",
    "# Adapted for YOLO11\n",
    "# ------------------------------\n",
    "\n",
    "import yaml\n",
    "import os\n",
    "\n",
    "def create_data_yaml(path_to_classes_txt, path_to_data_yaml):\n",
    "\n",
    "  # Read class.txt to get class names\n",
    "  if not os.path.exists(path_to_classes_txt):\n",
    "    print(f'classes.txt file not found! Please create a classes.txt labelmap and move it to {path_to_classes_txt}')\n",
    "    return\n",
    "  with open(path_to_classes_txt, 'r') as f:\n",
    "    classes = []\n",
    "    for line in f.readlines():\n",
    "      if len(line.strip()) == 0: continue\n",
    "      classes.append(line.strip())\n",
    "  number_of_classes = len(classes)\n",
    "\n",
    "  # Create data dictionary\n",
    "  data = {\n",
    "      'path': '/content/data',\n",
    "      'train': 'train/images',\n",
    "      'val': 'validation/images',\n",
    "      'nc': number_of_classes,\n",
    "      'names': classes\n",
    "  }\n",
    "\n",
    "  # Write data to YAML file\n",
    "  with open(path_to_data_yaml, 'w') as f:\n",
    "    yaml.dump(data, f, sort_keys=False)\n",
    "  print(f'Created config file at {path_to_data_yaml}')\n",
    "\n",
    "  return\n",
    "\n",
    "# Define path to classes.txt and run function\n",
    "path_to_classes_txt = '/content/custom_data/classes.txt'\n",
    "path_to_data_yaml = '/content/data.yaml'\n",
    "\n",
    "create_data_yaml(path_to_classes_txt, path_to_data_yaml)\n",
    "\n",
    "print('\\nFile contents:\\n')\n",
    "!cat /content/data.yaml"
   ]
  },
  {
   "cell_type": "code",
   "execution_count": null,
   "id": "c7feae25",
   "metadata": {},
   "outputs": [],
   "source": [
    "# ------------------------------\n",
    "# SCRIPT BASED ON EVAN JURAS\n",
    "# Source: https://colab.research.google.com/github/EdjeElectronics/Train-and-Deploy-YOLO-Models/blob/main/Train_YOLO_Models.ipynb#scrollTo=PooP5Vjsg2Jn\n",
    "# Adapted for YOLO11\n",
    "# ------------------------------\n",
    "\n",
    "!yolo detect train data=/content/data.yaml model=yolo11s.pt epochs=60 imgsz=640"
   ]
  },
  {
   "cell_type": "code",
   "execution_count": null,
   "id": "b52a6e49",
   "metadata": {},
   "outputs": [],
   "source": [
    "# ------------------------------\n",
    "# SCRIPT BASED ON EVAN JURAS\n",
    "# Source: https://colab.research.google.com/github/EdjeElectronics/Train-and-Deploy-YOLO-Models/blob/main/Train_YOLO_Models.ipynb#scrollTo=PooP5Vjsg2Jn\n",
    "# Adapted for YOLO11\n",
    "# ------------------------------\n",
    "\n",
    "!yolo detect predict model=runs/detect/train/weights/best.pt source=data/validation/images save=True"
   ]
  },
  {
   "cell_type": "code",
   "execution_count": null,
   "id": "682d1430",
   "metadata": {},
   "outputs": [],
   "source": [
    "# ------------------------------\n",
    "# SCRIPT BASED ON EVAN JURAS\n",
    "# Source: https://colab.research.google.com/github/EdjeElectronics/Train-and-Deploy-YOLO-Models/blob/main/Train_YOLO_Models.ipynb#scrollTo=PooP5Vjsg2Jn\n",
    "# Adapted for YOLO11\n",
    "# ------------------------------\n",
    "\n",
    "import glob\n",
    "from IPython.display import Image, display\n",
    "for image_path in glob.glob(f'/content/runs/detect/predict/*.jpg')[:10]:\n",
    "  display(Image(filename=image_path, height=400))\n",
    "  print('\\n')"
   ]
  },
  {
   "cell_type": "markdown",
   "id": "6a56a9fd",
   "metadata": {},
   "source": [
    "✍️ ### Custom Export Functions\n",
    "The following cells were developed specifically for this project.\n"
   ]
  },
  {
   "cell_type": "code",
   "execution_count": null,
   "id": "e7fd0d13",
   "metadata": {},
   "outputs": [],
   "source": [
    "# ------------------------------\n",
    "# CUSTOM SCRIPTS - by Johnatan Valencia\n",
    "# ------------------------------\n",
    "\n",
    "# Create \"my_model\" folder to store model weights and train results\n",
    "!mkdir /content/my_model\n",
    "!cp /content/runs/detect/train/weights/best.pt /content/my_model/my_model.pt\n",
    "!cp -r /content/runs/detect/train /content/my_model\n",
    "\n",
    "# Zip into \"my_model.zip\"\n",
    "%cd my_model\n",
    "!zip /content/my_model.zip my_model.pt\n",
    "!zip -r /content/my_model.zip train\n",
    "%cd /content"
   ]
  },
  {
   "cell_type": "code",
   "execution_count": null,
   "id": "221797c2",
   "metadata": {},
   "outputs": [],
   "source": [
    "# ------------------------------\n",
    "# CUSTOM SCRIPTS - by Johnatan Valencia\n",
    "# ------------------------------\n",
    "\n",
    "\n",
    "# This takes forever for some reason, you can also just download the model from the sidebar\n",
    "from google.colab import files\n",
    "\n",
    "files.download('/content/my_model.zip')"
   ]
  },
  {
   "cell_type": "code",
   "execution_count": null,
   "id": "b0391234",
   "metadata": {},
   "outputs": [],
   "source": [
    "# ------------------------------\n",
    "# CUSTOM SCRIPTS - by Johnatan Valencia\n",
    "# ------------------------------\n",
    "\n",
    "\n",
    "!yolo export model=runs/detect/train/weights/best.pt format=onnx opset=12 imgsz=640 simplify=True dynamic=False\n",
    "\n",
    "!python -m blobconverter \\\n",
    "--onnx-model runs/train/exp/weights/best.onnx \\\n",
    "--shaves 4 \\\n",
    "--output-dir /content \\\n",
    "--data-type FP16 \\\n",
    "--version 2022.1 \\\n",
    "--optimizer-params=\"--reverse_input_channels --input_shape=[1,3,640,640]\"\n",
    "\n",
    "!mkdir -p /content/my_model\n",
    "\n",
    "# copy onnx file\n",
    "!cp /content/runs/detect/train/weights/best.onnx /content/my_model/best.onnx\n",
    "\n",
    "# compress\n",
    "!zip /content/my_model.zip /content/my_model/best.onnx\n",
    "\n",
    "# download file\n",
    "from google.colab import files\n",
    "files.download('/content/my_model.zip')\n",
    "\n",
    "!mkdir -p /content/my_model\n",
    "\n",
    "# better location onnx file\n",
    "!cp /content/runs/detect/train/weights/best.onnx /content/my_model/best.onnx\n",
    "\n",
    "# compress for downloading\n",
    "!zip /content/my_model.zip /content/my_model/best.onnx\n",
    "\n",
    "# download file\n",
    "from google.colab import files\n",
    "files.download('/content/my_model.zip')"
   ]
  }
 ],
 "metadata": {
  "kernelspec": {
   "display_name": "Python 3",
   "language": "python",
   "name": "python3"
  },
  "language_info": {
   "codemirror_mode": {
    "name": "ipython",
    "version": 3
   },
   "file_extension": ".py",
   "mimetype": "text/x-python",
   "name": "python",
   "nbconvert_exporter": "python",
   "pygments_lexer": "ipython3",
   "version": "3.12.3"
  }
 },
 "nbformat": 4,
 "nbformat_minor": 5
}
